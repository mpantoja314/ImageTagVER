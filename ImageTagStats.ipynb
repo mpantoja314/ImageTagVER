{
 "cells": [
  {
   "cell_type": "markdown",
   "metadata": {},
   "source": [
    "# V.E.R. Earthquake Statistics Analysis\n",
    "Welcome to the Statistics Analysis for VER earthquake recog. tool!  This notebook will walk you step by step through the process of using the database of tags created by ImageTag tool to create statistics about the earthquake. [installation instructions](https://github.com/tensorflow/models/blob/master/object_detection/g3doc/installation.md) before you start."
   ]
  },
  {
   "cell_type": "markdown",
   "metadata": {},
   "source": [
    "# Imports"
   ]
  },
  {
   "cell_type": "code",
   "execution_count": 22,
   "metadata": {
    "collapsed": true,
    "scrolled": true
   },
   "outputs": [],
   "source": [
    "import numpy as np\n",
    "import os\n",
    "import six.moves.urllib as urllib\n",
    "import sys\n",
    "import tarfile\n",
    "import zipfile\n",
    "\n",
    "from collections import defaultdict\n",
    "from io import StringIO\n",
    "from matplotlib import pyplot as plt\n",
    "from PIL import Image\n",
    "\n",
    "import csv\n",
    "from collections import Counter\n",
    "import tkFileDialog"
   ]
  },
  {
   "cell_type": "markdown",
   "metadata": {},
   "source": [
    "## Env setup"
   ]
  },
  {
   "cell_type": "code",
   "execution_count": 23,
   "metadata": {
    "collapsed": true
   },
   "outputs": [],
   "source": [
    "# This is needed to display the images.\n",
    "%matplotlib inline\n",
    "\n",
    "# This is needed since the notebook s stored in the object_detection folder. EED THIS\n",
    "sys.path.append(\"..\")"
   ]
  },
  {
   "cell_type": "markdown",
   "metadata": {},
   "source": [
    "## Open file that contains the tag Information\n",
    "Enter the location of the file where the Image Tag is located. (Output.txt)"
   ]
  },
  {
   "cell_type": "code",
   "execution_count": 24,
   "metadata": {
    "collapsed": true
   },
   "outputs": [],
   "source": [
    "opts = {}\n",
    "opts['filetypes'] = [('Supported types',('.txt'))]\n",
    "\n",
    "hist= tkFileDialog.askopenfilename(title='Enter File to create histogram',**opts)\n",
    "if hist == '': \n",
    "\tprint \"can't open file\"\n",
    "\tquit()\n",
    "searchDMstrings = (\"Shear cracking\", \"Flexural cracking\",\"Concrete spalling\",\"Concrete core crushing\",\"Longitudinal bar buckling\", \"Longitudinal bar fracture\",\"Failure of confining hoops/ties\",\"Anchorage/connection failure\",\"Lap splice failure\", \"Distributed plastic hinging\",\"Concentrated flexural cracking\",\"Global buckling/instability\",\"Shear/diagonal failure\", \"Shear/compression failure\",\"Interface sliding\",\"Interaction b/w infill and frame\",\"Slab fracture\",\"Punching shear failure\",\"Unseating/collapse of stairs\",\"Pounding\",\"Differential settlement\",\"Residual displacement\",\"soft story fail\",\"Partial/full collapse\")\n",
    "\n",
    "searchSTstrings=(\"short/captive column\",\"slender column\",\"structural wall\",\"infill wall\",\"tilt-up precast panel\",\"joint-column connection\",\"beam\",\"coupling beam\", \"foundation beam\",\"floor diaphragm/slab\",\"frame\",\"scissor stairs\",\"corbel/support\",\"cantilevered balcony\",\"construction joint\",\"full Story\",\"full/partial building\",\"unknown\")\n",
    "\n",
    "#open file for reading\n",
    "fileWL=open(hist,\"r\")\n",
    "#create a Counter variable\n",
    "cntDM=Counter()\n",
    "for line in fileWL.readlines():\n",
    "\tfor word in searchDMstrings:\n",
    "\t\tif word in line:\n",
    "\t\t\tcntDM[word] += 1\n",
    "\n",
    "fileWL.close()\n",
    "\n",
    "#Do the same for Structure\n",
    "fileWL=open(hist,\"r\")\n",
    "cntST=Counter()\n",
    "for line in fileWL.readlines():\n",
    "\tfor word in searchSTstrings:\n",
    "\t\tif word in line:\n",
    "\t\t\tcntST[word] += 1\n",
    "\n",
    "fileWL.close()\n",
    "\n"
   ]
  },
  {
   "cell_type": "markdown",
   "metadata": {},
   "source": [
    "# Display Histogram "
   ]
  },
  {
   "cell_type": "markdown",
   "metadata": {},
   "source": [
    "## Variables\n",
    "\n",
    "Any model exported using the `export_inference_graph.py` tool can be loaded here simply by changing `PATH_TO_CKPT` to point to a new .pb file.  \n",
    "\n",
    "By default we use an \"SSD with Mobilenet\" model here. See the [detection model zoo](https://github.com/tensorflow/models/blob/master/object_detection/g3doc/detection_model_zoo.md) for a list of other models that can be run out-of-the-box with varying speeds and accuracies."
   ]
  },
  {
   "cell_type": "code",
   "execution_count": 25,
   "metadata": {},
   "outputs": [
    {
     "data": {
      "image/png": "[encoded data removed]",
      "text/plain": [
       "<matplotlib.figure.Figure at 0x7f3a6b77f410>"
      ]
     },
     "metadata": {},
     "output_type": "display_data"
    }
   ],
   "source": [
    "#display the two histograms at the same time\n",
    "i=0\n",
    "labels=[]\n",
    "values=[]\n",
    "for item in cntDM.most_common(10):\n",
    "\tlabels.insert(10,item[0])\n",
    "\tvalues.insert(10,item[1])\n",
    "# sort your values in descending order\n",
    "indSort = np.argsort(values)[::-1]\n",
    "\n",
    "# rearrange your data\n",
    "labels = np.array(labels)[indSort]\n",
    "values = np.array(values)[indSort]\n",
    "\n",
    "indexes = np.arange(len(labels))\n",
    "\n",
    "bar_width = 0.35\n",
    "plt.bar(indexes, values)\n",
    "# add labels\n",
    "plt.xticks(indexes + bar_width, labels)\n",
    "plt.show()\n"
   ]
  },
  {
   "cell_type": "markdown",
   "metadata": {},
   "source": [
    "## other "
   ]
  },
  {
   "cell_type": "code",
   "execution_count": 26,
   "metadata": {
    "collapsed": true
   },
   "outputs": [],
   "source": [
    "#If your file is not too large, you can read it into a string, and just use that (easier and often faster than reading and checking line per line):\n",
    "\n",
    "#if 'blabla' in open('example.txt').read():\n",
    "#    print \"true\"\n",
    "\n",
    "#Another trick: you can alleviate the possible memory problems by using mmap.mmap() to create a \"string-like\" object that uses the underlying file (instead of reading the whole file in memory):\n",
    "\n",
    "#import mmap\n",
    "#f = open('example.txt')\n",
    "#s = mmap.mmap(f.fileno(), 0, access=mmap.ACCESS_READ)\n",
    "#if s.find('blabla') != -1:\n",
    "#    print 'true'\n",
    "\n",
    "#NOTE: in python 3, mmaps behave like bytearray objects rather than strings, so the subsequence you look for with find() has to be a bytes object rather than a string as well, eg. s.find(b'blabla'):\n",
    "\n",
    "#!/usr/bin/env python3\n",
    "#import mmap\n",
    "\n",
    "#with open('example.txt', 'rb', 0) as file, \\\n",
    "#     mmap.mmap(file.fileno(), 0, access=mmap.ACCESS_READ) as s:\n",
    "#    if s.find(b'blabla') != -1:\n",
    "#        print('true')\n",
    "\n",
    "#You could also use regular expressions on mmap e.g., case-insensitive search: if re.search(br'(?i)blabla', s):\n",
    "\n",
    "\n",
    "\n",
    "#look here for search for multiple strings in a file\n",
    "\n",
    "#https://stackoverflow.com/questions/32097118/search-text-file-for-multiple-strings-and-print-out-results-to-a-new-text-file"
   ]
  },
  {
   "cell_type": "code",
   "execution_count": null,
   "metadata": {
    "collapsed": true
   },
   "outputs": [],
   "source": []
  }
 ],
 "metadata": {
  "kernelspec": {
   "display_name": "Python 2",
   "language": "python",
   "name": "python2"
  },
  "language_info": {
   "codemirror_mode": {
    "name": "ipython",
    "version": 2
   },
   "file_extension": ".py",
   "mimetype": "text/x-python",
   "name": "python",
   "nbconvert_exporter": "python",
   "pygments_lexer": "ipython2",
   "version": "2.7.12"
  }
 },
 "nbformat": 4,
 "nbformat_minor": 2
}
